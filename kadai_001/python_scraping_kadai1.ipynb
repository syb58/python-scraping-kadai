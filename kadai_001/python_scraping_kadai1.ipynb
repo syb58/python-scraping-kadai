{
  "nbformat": 4,
  "nbformat_minor": 0,
  "metadata": {
    "colab": {
      "provenance": []
    },
    "kernelspec": {
      "name": "python3",
      "display_name": "Python 3"
    },
    "language_info": {
      "name": "python"
    }
  },
  "cells": [
    {
      "cell_type": "code",
      "execution_count": 16,
      "metadata": {
        "colab": {
          "base_uri": "https://localhost:8080/"
        },
        "id": "H6atE4EPVoE4",
        "outputId": "4c8700f0-44f6-4dc6-87be-ea63f0787832"
      },
      "outputs": [
        {
          "output_type": "stream",
          "name": "stdout",
          "text": [
            "　政府は12日、石破政権下で初となる規制改革推進会議を開き、最低賃金の決定プロセスの見直しを今後の検討課題とすることを確認した。2020年代に全国平均時給を1500円に引き上げるとの石破茂首相の目標の実現が焦点だが、経済界では慎重な声もあり議論は曲折も予想される。\n",
            "\n",
            "【画像】年金水準、30年後に2割低下　「現役収入の半分」は維持\n",
            "　首相は会議に出席し「改革はスピード感が大事だ。できるものから経済対策に盛り込むようお願いする」と述べた。\n",
            "\n",
            "　最低賃金の改定は労働者の生計費や賃金、企業側の支払い能力を考慮する。国と地方の審議会を経て毎年度改定され、24年度の全国平均は時給1055円。正社員の賃金と比べて低いとの指摘もあり、今後、政労使の協議や経済財政諮問会議での議論も踏まえ決定プロセスの在り方を検討する。大企業に比べて経営体力のない中小企業からは、性急な引き上げにつながる見直しには反対意見が出そうだ。\n",
            "\n",
            "　「年収の壁」も取り上げる。106万円を超えた従業員の保険料を肩代わりした企業への補助金支給の制度について、手続きの簡素化を早期に実現するとした。\n"
          ]
        }
      ],
      "source": [
        "# !pip install BeautifulSoup4\n",
        "import requests\n",
        "from bs4 import BeautifulSoup\n",
        "\n",
        "url = 'https://news.yahoo.co.jp/articles/aaef34d8cd081c368b96ebb9cef6fae8a37c8913'\n",
        "response = requests.get(url)\n",
        "soup = BeautifulSoup(response.text, 'html.parser')\n",
        "\n",
        "honbun1 = soup.select_one('#uamods > div.article_body.highLightSearchTarget > div:nth-child(1) > p')\n",
        "honbun2 = soup.select_one('#uamods > div.article_body.highLightSearchTarget > div:nth-child(2) > p')\n",
        "\n",
        "honbun_text = honbun1.text\n",
        "honbun2_text = honbun2.text\n",
        "print(honbun_text)\n",
        "print(honbun2_text)\n",
        "\n",
        "\n"
      ]
    },
    {
      "cell_type": "markdown",
      "source": [],
      "metadata": {
        "id": "8jnxiJ4CY763"
      }
    }
  ]
}